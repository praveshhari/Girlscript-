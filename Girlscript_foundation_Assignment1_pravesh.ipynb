{
  "nbformat": 4,
  "nbformat_minor": 0,
  "metadata": {
    "colab": {
      "name": "Girlscript foundation Assignment1 - pravesh.ipynb",
      "provenance": [],
      "collapsed_sections": [],
      "authorship_tag": "ABX9TyPbelQzsPzqJUp36/XVcZQt",
      "include_colab_link": true
    },
    "kernelspec": {
      "name": "python3",
      "display_name": "Python 3"
    },
    "language_info": {
      "name": "python"
    }
  },
  "cells": [
    {
      "cell_type": "markdown",
      "metadata": {
        "id": "view-in-github",
        "colab_type": "text"
      },
      "source": [
        "<a href=\"https://colab.research.google.com/github/praveshhari/Girlscript-/blob/main/Girlscript_foundation_Assignment1_pravesh.ipynb\" target=\"_parent\"><img src=\"https://colab.research.google.com/assets/colab-badge.svg\" alt=\"Open In Colab\"/></a>"
      ]
    },
    {
      "cell_type": "code",
      "metadata": {
        "colab": {
          "base_uri": "https://localhost:8080/"
        },
        "id": "zbVairoOu-5S",
        "outputId": "959cae08-6f32-4a76-b5eb-9ea29a1ac910"
      },
      "source": [
        "###Arithmetic operation###\n",
        "a = int(input(\"Enter the value:\"))\n",
        "b = int(input(\"Enter the value:\"))\n",
        "print(a+b)\n",
        "print(a-b)\n",
        "print(a*b)\n",
        "print(a%b)\n",
        "print(a/b)"
      ],
      "execution_count": null,
      "outputs": [
        {
          "output_type": "stream",
          "text": [
            "Enter the value:8\n",
            "Enter the value:6\n",
            "14\n",
            "2\n",
            "48\n",
            "2\n",
            "1.3333333333333333\n"
          ],
          "name": "stdout"
        }
      ]
    },
    {
      "cell_type": "code",
      "metadata": {
        "colab": {
          "base_uri": "https://localhost:8080/"
        },
        "id": "mD3tm6whvjDI",
        "outputId": "fca20d48-68c6-486a-c0c6-c589afd16323"
      },
      "source": [
        "###Maximum number###\n",
        "c = 100\n",
        "d = 50\n",
        "max(c,d)"
      ],
      "execution_count": null,
      "outputs": [
        {
          "output_type": "execute_result",
          "data": {
            "text/plain": [
              "100"
            ]
          },
          "metadata": {
            "tags": []
          },
          "execution_count": 2
        }
      ]
    },
    {
      "cell_type": "code",
      "metadata": {
        "colab": {
          "base_uri": "https://localhost:8080/"
        },
        "id": "bjh2cl1IwAsf",
        "outputId": "475cf7c8-eec1-4ce4-ca33-d0ad4bbc030e"
      },
      "source": [
        "###Simple interest###\n",
        "p = int(input(\"Enter the value:\"))\n",
        "n = int(input(\"Enter the value:\"))\n",
        "r = int(input(\"Enter the value:\"))\n",
        "x = (p*n*r)/100\n",
        "print(x)"
      ],
      "execution_count": null,
      "outputs": [
        {
          "output_type": "stream",
          "text": [
            "Enter the value:4\n",
            "Enter the value:5\n",
            "Enter the value:6\n",
            "1.2\n"
          ],
          "name": "stdout"
        }
      ]
    },
    {
      "cell_type": "code",
      "metadata": {
        "colab": {
          "base_uri": "https://localhost:8080/"
        },
        "id": "7-nPPgQxw3cE",
        "outputId": "1c9f01ee-44d4-452e-91c7-a0162d2a3382"
      },
      "source": [
        "###Compound interest###\n",
        "p = int(input(\"Enter the value:\"))\n",
        "n = int(input(\"Enter the value:\"))\n",
        "r = int(input(\"Enter the value:\"))\n",
        "t = int(input(\"enter the value:\"))\n",
        "y = p*(1+r/n)**(n*t)\n",
        "print(y)"
      ],
      "execution_count": null,
      "outputs": [
        {
          "output_type": "stream",
          "text": [
            "Enter the value:2\n",
            "Enter the value:3\n",
            "Enter the value:4\n",
            "enter the value:1\n",
            "25.407407407407398\n"
          ],
          "name": "stdout"
        }
      ]
    },
    {
      "cell_type": "code",
      "metadata": {
        "colab": {
          "base_uri": "https://localhost:8080/"
        },
        "id": "F7e085ZYyNG7",
        "outputId": "59c4eab4-ba35-4c9c-f303-e211c5157beb"
      },
      "source": [
        "###Area of circle###\n",
        "a = int(input(\"Enter the value:\"))\n",
        "d = 3.14*a*a\n",
        "print(d)"
      ],
      "execution_count": null,
      "outputs": [
        {
          "output_type": "stream",
          "text": [
            "Enter the value:5\n",
            "78.5\n"
          ],
          "name": "stdout"
        }
      ]
    },
    {
      "cell_type": "code",
      "metadata": {
        "colab": {
          "base_uri": "https://localhost:8080/"
        },
        "id": "4Hz4NM0Nztyn",
        "outputId": "8d491144-eba2-46f3-b3b6-bd77f1ad49d0"
      },
      "source": [
        "###Implicit and Explicit type conversion###\n",
        "a_int = 23\n",
        "b_flt = 12.0\n",
        "\n",
        "c_new = a_int + b_flt\n",
        "\n",
        "print(\"datatype of a_int:\",type(a_int))\n",
        "print(\"datatype of b_flt:\", type(b_flt))\n",
        "\n",
        "print(\"value of c_new:\",c_new)\n",
        "print(\"datatype of c_new:\",type(c_new))"
      ],
      "execution_count": null,
      "outputs": [
        {
          "output_type": "stream",
          "text": [
            "datatype of a_int: <class 'int'>\n",
            "datatype of b_flt: <class 'float'>\n",
            "value of c_new: 35.0\n",
            "datatype of c_new: <class 'float'>\n"
          ],
          "name": "stdout"
        }
      ]
    },
    {
      "cell_type": "code",
      "metadata": {
        "id": "f9IDARDo24l7"
      },
      "source": [
        ""
      ],
      "execution_count": null,
      "outputs": []
    }
  ]
}